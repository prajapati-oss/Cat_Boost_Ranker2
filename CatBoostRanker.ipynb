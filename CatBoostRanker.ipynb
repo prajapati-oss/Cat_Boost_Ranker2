{
 "cells": [
  {
   "cell_type": "code",
   "execution_count": 4,
   "id": "21e97446-869a-4f81-9cd0-228ff6d5907f",
   "metadata": {},
   "outputs": [],
   "source": [
    "import pandas as pd \n",
    "import matplotlib.pyplot as plt \n",
    "import catboost as cbt \n",
    "from sklearn.model_selection import train_test_split \n",
    "from sklearn.metrics import accuracy_score\n",
    "from catboost import CatBoostRanker,Pool"
   ]
  },
  {
   "cell_type": "code",
   "execution_count": 5,
   "id": "1ba21566-ca78-41a3-b046-c49da8074749",
   "metadata": {},
   "outputs": [],
   "source": [
    "import csv\n",
    "\n",
    "# Step 1: Read raw data\n",
    "with open(\"movies.dat\", \"r\", encoding=\"utf-8\") as infile:\n",
    "    lines = infile.readlines()\n",
    "\n",
    "# Step 2: Process and write to CSV\n",
    "with open(\"movies.csv\", \"w\", newline='', encoding=\"utf-8\") as outfile:\n",
    "    writer = csv.writer(outfile)\n",
    "    writer.writerow([\"movieId\", \"title\", \"genres\"])  # Header\n",
    "\n",
    "    for line in lines:\n",
    "        parts = line.strip().split(\"::\")\n",
    "        if len(parts) == 3:\n",
    "            movie_id, title, genres = parts\n",
    "            writer.writerow([movie_id, title, genres])\n"
   ]
  },
  {
   "cell_type": "code",
   "execution_count": 6,
   "id": "9769c3e8-e76b-4521-8066-f8955041f976",
   "metadata": {},
   "outputs": [],
   "source": [
    "import csv\n",
    "\n",
    "# Step 1: Read raw data\n",
    "with open(\"ratings.dat\", \"r\", encoding=\"utf-8\") as infile:\n",
    "    lines = infile.readlines()\n",
    "\n",
    "# Step 2: Write to CSV\n",
    "with open(\"ratings.csv\", \"w\", newline='', encoding=\"utf-8\") as outfile:\n",
    "    writer = csv.writer(outfile)\n",
    "    writer.writerow([\"userId\", \"movieId\", \"rating\", \"timestamp\"])  # CSV header\n",
    "\n",
    "    for line in lines:\n",
    "        parts = line.strip().split(\"::\")\n",
    "        if len(parts) == 4:\n",
    "            writer.writerow(parts)\n"
   ]
  },
  {
   "cell_type": "code",
   "execution_count": 7,
   "id": "006b6fb6-6686-4f72-9def-fb3250911234",
   "metadata": {},
   "outputs": [],
   "source": [
    "rating=pd.read_csv('ratings.csv')\n",
    "movie=pd.read_csv('movies.csv')"
   ]
  },
  {
   "cell_type": "code",
   "execution_count": 8,
   "id": "3d66516e-7b02-413b-a4d6-29c268cb2cca",
   "metadata": {},
   "outputs": [
    {
     "data": {
      "text/html": [
       "<div>\n",
       "<style scoped>\n",
       "    .dataframe tbody tr th:only-of-type {\n",
       "        vertical-align: middle;\n",
       "    }\n",
       "\n",
       "    .dataframe tbody tr th {\n",
       "        vertical-align: top;\n",
       "    }\n",
       "\n",
       "    .dataframe thead th {\n",
       "        text-align: right;\n",
       "    }\n",
       "</style>\n",
       "<table border=\"1\" class=\"dataframe\">\n",
       "  <thead>\n",
       "    <tr style=\"text-align: right;\">\n",
       "      <th></th>\n",
       "      <th>userId</th>\n",
       "      <th>movieId</th>\n",
       "      <th>rating</th>\n",
       "      <th>timestamp</th>\n",
       "    </tr>\n",
       "  </thead>\n",
       "  <tbody>\n",
       "    <tr>\n",
       "      <th>0</th>\n",
       "      <td>1</td>\n",
       "      <td>122</td>\n",
       "      <td>5.0</td>\n",
       "      <td>838985046</td>\n",
       "    </tr>\n",
       "    <tr>\n",
       "      <th>1</th>\n",
       "      <td>1</td>\n",
       "      <td>185</td>\n",
       "      <td>5.0</td>\n",
       "      <td>838983525</td>\n",
       "    </tr>\n",
       "    <tr>\n",
       "      <th>2</th>\n",
       "      <td>1</td>\n",
       "      <td>231</td>\n",
       "      <td>5.0</td>\n",
       "      <td>838983392</td>\n",
       "    </tr>\n",
       "    <tr>\n",
       "      <th>3</th>\n",
       "      <td>1</td>\n",
       "      <td>292</td>\n",
       "      <td>5.0</td>\n",
       "      <td>838983421</td>\n",
       "    </tr>\n",
       "    <tr>\n",
       "      <th>4</th>\n",
       "      <td>1</td>\n",
       "      <td>316</td>\n",
       "      <td>5.0</td>\n",
       "      <td>838983392</td>\n",
       "    </tr>\n",
       "  </tbody>\n",
       "</table>\n",
       "</div>"
      ],
      "text/plain": [
       "   userId  movieId  rating  timestamp\n",
       "0       1      122     5.0  838985046\n",
       "1       1      185     5.0  838983525\n",
       "2       1      231     5.0  838983392\n",
       "3       1      292     5.0  838983421\n",
       "4       1      316     5.0  838983392"
      ]
     },
     "execution_count": 8,
     "metadata": {},
     "output_type": "execute_result"
    }
   ],
   "source": [
    "rating.head()"
   ]
  },
  {
   "cell_type": "code",
   "execution_count": 9,
   "id": "9137f0db-aa73-43b5-befb-c993e0ce75a0",
   "metadata": {},
   "outputs": [
    {
     "data": {
      "text/html": [
       "<div>\n",
       "<style scoped>\n",
       "    .dataframe tbody tr th:only-of-type {\n",
       "        vertical-align: middle;\n",
       "    }\n",
       "\n",
       "    .dataframe tbody tr th {\n",
       "        vertical-align: top;\n",
       "    }\n",
       "\n",
       "    .dataframe thead th {\n",
       "        text-align: right;\n",
       "    }\n",
       "</style>\n",
       "<table border=\"1\" class=\"dataframe\">\n",
       "  <thead>\n",
       "    <tr style=\"text-align: right;\">\n",
       "      <th></th>\n",
       "      <th>movieId</th>\n",
       "      <th>title</th>\n",
       "      <th>genres</th>\n",
       "    </tr>\n",
       "  </thead>\n",
       "  <tbody>\n",
       "    <tr>\n",
       "      <th>0</th>\n",
       "      <td>1</td>\n",
       "      <td>Toy Story (1995)</td>\n",
       "      <td>Adventure|Animation|Children|Comedy|Fantasy</td>\n",
       "    </tr>\n",
       "    <tr>\n",
       "      <th>1</th>\n",
       "      <td>2</td>\n",
       "      <td>Jumanji (1995)</td>\n",
       "      <td>Adventure|Children|Fantasy</td>\n",
       "    </tr>\n",
       "    <tr>\n",
       "      <th>2</th>\n",
       "      <td>3</td>\n",
       "      <td>Grumpier Old Men (1995)</td>\n",
       "      <td>Comedy|Romance</td>\n",
       "    </tr>\n",
       "    <tr>\n",
       "      <th>3</th>\n",
       "      <td>4</td>\n",
       "      <td>Waiting to Exhale (1995)</td>\n",
       "      <td>Comedy|Drama|Romance</td>\n",
       "    </tr>\n",
       "    <tr>\n",
       "      <th>4</th>\n",
       "      <td>5</td>\n",
       "      <td>Father of the Bride Part II (1995)</td>\n",
       "      <td>Comedy</td>\n",
       "    </tr>\n",
       "    <tr>\n",
       "      <th>...</th>\n",
       "      <td>...</td>\n",
       "      <td>...</td>\n",
       "      <td>...</td>\n",
       "    </tr>\n",
       "    <tr>\n",
       "      <th>10676</th>\n",
       "      <td>65088</td>\n",
       "      <td>Bedtime Stories (2008)</td>\n",
       "      <td>Adventure|Children|Comedy</td>\n",
       "    </tr>\n",
       "    <tr>\n",
       "      <th>10677</th>\n",
       "      <td>65091</td>\n",
       "      <td>Manhattan Melodrama (1934)</td>\n",
       "      <td>Crime|Drama|Romance</td>\n",
       "    </tr>\n",
       "    <tr>\n",
       "      <th>10678</th>\n",
       "      <td>65126</td>\n",
       "      <td>Choke (2008)</td>\n",
       "      <td>Comedy|Drama</td>\n",
       "    </tr>\n",
       "    <tr>\n",
       "      <th>10679</th>\n",
       "      <td>65130</td>\n",
       "      <td>Revolutionary Road (2008)</td>\n",
       "      <td>Drama|Romance</td>\n",
       "    </tr>\n",
       "    <tr>\n",
       "      <th>10680</th>\n",
       "      <td>65133</td>\n",
       "      <td>Blackadder Back &amp; Forth (1999)</td>\n",
       "      <td>Comedy</td>\n",
       "    </tr>\n",
       "  </tbody>\n",
       "</table>\n",
       "<p>10681 rows × 3 columns</p>\n",
       "</div>"
      ],
      "text/plain": [
       "       movieId                               title  \\\n",
       "0            1                    Toy Story (1995)   \n",
       "1            2                      Jumanji (1995)   \n",
       "2            3             Grumpier Old Men (1995)   \n",
       "3            4            Waiting to Exhale (1995)   \n",
       "4            5  Father of the Bride Part II (1995)   \n",
       "...        ...                                 ...   \n",
       "10676    65088              Bedtime Stories (2008)   \n",
       "10677    65091          Manhattan Melodrama (1934)   \n",
       "10678    65126                        Choke (2008)   \n",
       "10679    65130           Revolutionary Road (2008)   \n",
       "10680    65133      Blackadder Back & Forth (1999)   \n",
       "\n",
       "                                            genres  \n",
       "0      Adventure|Animation|Children|Comedy|Fantasy  \n",
       "1                       Adventure|Children|Fantasy  \n",
       "2                                   Comedy|Romance  \n",
       "3                             Comedy|Drama|Romance  \n",
       "4                                           Comedy  \n",
       "...                                            ...  \n",
       "10676                    Adventure|Children|Comedy  \n",
       "10677                          Crime|Drama|Romance  \n",
       "10678                                 Comedy|Drama  \n",
       "10679                                Drama|Romance  \n",
       "10680                                       Comedy  \n",
       "\n",
       "[10681 rows x 3 columns]"
      ]
     },
     "execution_count": 9,
     "metadata": {},
     "output_type": "execute_result"
    }
   ],
   "source": [
    "movie"
   ]
  },
  {
   "cell_type": "code",
   "execution_count": 10,
   "id": "dc267420-981d-4ab7-b931-37626f9f1002",
   "metadata": {},
   "outputs": [],
   "source": [
    "data = pd.merge(rating, movie, on=\"movieId\")"
   ]
  },
  {
   "cell_type": "code",
   "execution_count": 11,
   "id": "95848337-887e-4f45-91ba-04ff582a3cb0",
   "metadata": {},
   "outputs": [
    {
     "data": {
      "text/html": [
       "<div>\n",
       "<style scoped>\n",
       "    .dataframe tbody tr th:only-of-type {\n",
       "        vertical-align: middle;\n",
       "    }\n",
       "\n",
       "    .dataframe tbody tr th {\n",
       "        vertical-align: top;\n",
       "    }\n",
       "\n",
       "    .dataframe thead th {\n",
       "        text-align: right;\n",
       "    }\n",
       "</style>\n",
       "<table border=\"1\" class=\"dataframe\">\n",
       "  <thead>\n",
       "    <tr style=\"text-align: right;\">\n",
       "      <th></th>\n",
       "      <th>userId</th>\n",
       "      <th>movieId</th>\n",
       "      <th>rating</th>\n",
       "      <th>timestamp</th>\n",
       "      <th>title</th>\n",
       "      <th>genres</th>\n",
       "    </tr>\n",
       "  </thead>\n",
       "  <tbody>\n",
       "    <tr>\n",
       "      <th>0</th>\n",
       "      <td>1</td>\n",
       "      <td>122</td>\n",
       "      <td>5.0</td>\n",
       "      <td>838985046</td>\n",
       "      <td>Boomerang (1992)</td>\n",
       "      <td>Comedy|Romance</td>\n",
       "    </tr>\n",
       "    <tr>\n",
       "      <th>1</th>\n",
       "      <td>1</td>\n",
       "      <td>185</td>\n",
       "      <td>5.0</td>\n",
       "      <td>838983525</td>\n",
       "      <td>Net, The (1995)</td>\n",
       "      <td>Action|Crime|Thriller</td>\n",
       "    </tr>\n",
       "    <tr>\n",
       "      <th>2</th>\n",
       "      <td>1</td>\n",
       "      <td>231</td>\n",
       "      <td>5.0</td>\n",
       "      <td>838983392</td>\n",
       "      <td>Dumb &amp; Dumber (1994)</td>\n",
       "      <td>Comedy</td>\n",
       "    </tr>\n",
       "    <tr>\n",
       "      <th>3</th>\n",
       "      <td>1</td>\n",
       "      <td>292</td>\n",
       "      <td>5.0</td>\n",
       "      <td>838983421</td>\n",
       "      <td>Outbreak (1995)</td>\n",
       "      <td>Action|Drama|Sci-Fi|Thriller</td>\n",
       "    </tr>\n",
       "    <tr>\n",
       "      <th>4</th>\n",
       "      <td>1</td>\n",
       "      <td>316</td>\n",
       "      <td>5.0</td>\n",
       "      <td>838983392</td>\n",
       "      <td>Stargate (1994)</td>\n",
       "      <td>Action|Adventure|Sci-Fi</td>\n",
       "    </tr>\n",
       "  </tbody>\n",
       "</table>\n",
       "</div>"
      ],
      "text/plain": [
       "   userId  movieId  rating  timestamp                 title  \\\n",
       "0       1      122     5.0  838985046      Boomerang (1992)   \n",
       "1       1      185     5.0  838983525       Net, The (1995)   \n",
       "2       1      231     5.0  838983392  Dumb & Dumber (1994)   \n",
       "3       1      292     5.0  838983421       Outbreak (1995)   \n",
       "4       1      316     5.0  838983392       Stargate (1994)   \n",
       "\n",
       "                         genres  \n",
       "0                Comedy|Romance  \n",
       "1         Action|Crime|Thriller  \n",
       "2                        Comedy  \n",
       "3  Action|Drama|Sci-Fi|Thriller  \n",
       "4       Action|Adventure|Sci-Fi  "
      ]
     },
     "execution_count": 11,
     "metadata": {},
     "output_type": "execute_result"
    }
   ],
   "source": [
    "data.head()"
   ]
  },
  {
   "cell_type": "code",
   "execution_count": 12,
   "id": "cc8ff238-fbe7-42a8-b094-7e041c0e0d17",
   "metadata": {},
   "outputs": [],
   "source": [
    "# Clean the data\n",
    "\n",
    "data['genres']=data['genres'].apply(lambda x:x.split('|')[0])"
   ]
  },
  {
   "cell_type": "code",
   "execution_count": 13,
   "id": "616b74d1-695c-453f-bcf0-754d93f51f94",
   "metadata": {},
   "outputs": [
    {
     "data": {
      "text/plain": [
       "0              Comedy\n",
       "1              Action\n",
       "2              Comedy\n",
       "3              Action\n",
       "4              Action\n",
       "              ...    \n",
       "10000049       Horror\n",
       "10000050       Action\n",
       "10000051    Adventure\n",
       "10000052       Horror\n",
       "10000053     Children\n",
       "Name: genres, Length: 10000054, dtype: object"
      ]
     },
     "execution_count": 13,
     "metadata": {},
     "output_type": "execute_result"
    }
   ],
   "source": [
    "data['genres']"
   ]
  },
  {
   "cell_type": "code",
   "execution_count": 14,
   "id": "2ed26251-6e5d-459a-83e6-440287f08356",
   "metadata": {},
   "outputs": [],
   "source": [
    "data['userId']=data['userId'].astype('category')\n",
    "data['movieId']=data['movieId'].astype('category')\n",
    "data['genres']=data['genres'].astype('category')"
   ]
  },
  {
   "cell_type": "code",
   "execution_count": 15,
   "id": "ab1a4999-7500-4ab5-8cf1-be10f293306c",
   "metadata": {},
   "outputs": [
    {
     "data": {
      "text/plain": [
       "0               1\n",
       "1               1\n",
       "2               1\n",
       "3               1\n",
       "4               1\n",
       "            ...  \n",
       "10000049    71567\n",
       "10000050    71567\n",
       "10000051    71567\n",
       "10000052    71567\n",
       "10000053    71567\n",
       "Name: userId, Length: 10000054, dtype: category\n",
       "Categories (69878, int64): [1, 2, 3, 4, ..., 71564, 71565, 71566, 71567]"
      ]
     },
     "execution_count": 15,
     "metadata": {},
     "output_type": "execute_result"
    }
   ],
   "source": [
    "data['userId']"
   ]
  },
  {
   "cell_type": "code",
   "execution_count": 16,
   "id": "3720d995-3a55-4aab-8671-e683a2eab33c",
   "metadata": {},
   "outputs": [
    {
     "name": "stdout",
     "output_type": "stream",
     "text": [
      "42672948\n"
     ]
    }
   ],
   "source": [
    "print(data['userId'].memory_usage(deep=True))"
   ]
  },
  {
   "cell_type": "code",
   "execution_count": 17,
   "id": "60b84a4b-4a48-489f-8a15-62dbaef0da97",
   "metadata": {},
   "outputs": [],
   "source": [
    "feature=['userId','movieId','genres']\n",
    "x=data[feature]\n",
    "y=data['rating']"
   ]
  },
  {
   "cell_type": "code",
   "execution_count": 18,
   "id": "6667e494-73fe-4a68-a0ac-95974a3217d1",
   "metadata": {},
   "outputs": [],
   "source": [
    "group_id=data['userId'].cat.codes"
   ]
  },
  {
   "cell_type": "code",
   "execution_count": 19,
   "id": "b338ce78-6fa2-406b-89c1-cf1e27572b72",
   "metadata": {},
   "outputs": [],
   "source": [
    "x_train,x_test,y_train,y_test,g_train,g_test=train_test_split(x,y,group_id,test_size=0.2,random_state=42,stratify=group_id)\n"
   ]
  },
  {
   "cell_type": "code",
   "execution_count": 20,
   "id": "9c398ac0-affc-405f-9a35-22ced349337e",
   "metadata": {},
   "outputs": [
    {
     "name": "stdout",
     "output_type": "stream",
     "text": [
      "(8000043, 3)\n",
      "(8000043,)\n"
     ]
    }
   ],
   "source": [
    "print(x_train.shape)\n",
    "print(y_train.shape)"
   ]
  },
  {
   "cell_type": "code",
   "execution_count": 21,
   "id": "e1d9311b-151a-45dc-a47b-5b6cb7621a95",
   "metadata": {},
   "outputs": [],
   "source": [
    "group_id=data['userId'].cat.codes"
   ]
  },
  {
   "cell_type": "code",
   "execution_count": 22,
   "id": "39c82de3-cbd7-4d43-a202-188bf5727303",
   "metadata": {},
   "outputs": [
    {
     "data": {
      "text/plain": [
       "0               0\n",
       "1               0\n",
       "2               0\n",
       "3               0\n",
       "4               0\n",
       "            ...  \n",
       "10000049    69877\n",
       "10000050    69877\n",
       "10000051    69877\n",
       "10000052    69877\n",
       "10000053    69877\n",
       "Length: 10000054, dtype: int32"
      ]
     },
     "execution_count": 22,
     "metadata": {},
     "output_type": "execute_result"
    }
   ],
   "source": [
    "group_id"
   ]
  },
  {
   "cell_type": "code",
   "execution_count": 23,
   "id": "be3f44e8-de0b-4965-83fa-f51d19a75ae8",
   "metadata": {
    "scrolled": true
   },
   "outputs": [
    {
     "data": {
      "text/html": [
       "<div>\n",
       "<style scoped>\n",
       "    .dataframe tbody tr th:only-of-type {\n",
       "        vertical-align: middle;\n",
       "    }\n",
       "\n",
       "    .dataframe tbody tr th {\n",
       "        vertical-align: top;\n",
       "    }\n",
       "\n",
       "    .dataframe thead th {\n",
       "        text-align: right;\n",
       "    }\n",
       "</style>\n",
       "<table border=\"1\" class=\"dataframe\">\n",
       "  <thead>\n",
       "    <tr style=\"text-align: right;\">\n",
       "      <th></th>\n",
       "      <th>userId</th>\n",
       "      <th>movieId</th>\n",
       "      <th>genres</th>\n",
       "    </tr>\n",
       "  </thead>\n",
       "  <tbody>\n",
       "    <tr>\n",
       "      <th>7918183</th>\n",
       "      <td>56794</td>\n",
       "      <td>1485</td>\n",
       "      <td>Comedy</td>\n",
       "    </tr>\n",
       "    <tr>\n",
       "      <th>3838694</th>\n",
       "      <td>27562</td>\n",
       "      <td>223</td>\n",
       "      <td>Comedy</td>\n",
       "    </tr>\n",
       "    <tr>\n",
       "      <th>5621659</th>\n",
       "      <td>40166</td>\n",
       "      <td>1466</td>\n",
       "      <td>Crime</td>\n",
       "    </tr>\n",
       "    <tr>\n",
       "      <th>5959705</th>\n",
       "      <td>42522</td>\n",
       "      <td>70</td>\n",
       "      <td>Action</td>\n",
       "    </tr>\n",
       "    <tr>\n",
       "      <th>2283988</th>\n",
       "      <td>16612</td>\n",
       "      <td>421</td>\n",
       "      <td>Adventure</td>\n",
       "    </tr>\n",
       "    <tr>\n",
       "      <th>...</th>\n",
       "      <td>...</td>\n",
       "      <td>...</td>\n",
       "      <td>...</td>\n",
       "    </tr>\n",
       "    <tr>\n",
       "      <th>6854510</th>\n",
       "      <td>48962</td>\n",
       "      <td>2013</td>\n",
       "      <td>Action</td>\n",
       "    </tr>\n",
       "    <tr>\n",
       "      <th>5502604</th>\n",
       "      <td>39294</td>\n",
       "      <td>912</td>\n",
       "      <td>Drama</td>\n",
       "    </tr>\n",
       "    <tr>\n",
       "      <th>7369035</th>\n",
       "      <td>52644</td>\n",
       "      <td>8798</td>\n",
       "      <td>Action</td>\n",
       "    </tr>\n",
       "    <tr>\n",
       "      <th>7212979</th>\n",
       "      <td>51544</td>\n",
       "      <td>21</td>\n",
       "      <td>Action</td>\n",
       "    </tr>\n",
       "    <tr>\n",
       "      <th>2942536</th>\n",
       "      <td>21253</td>\n",
       "      <td>1079</td>\n",
       "      <td>Comedy</td>\n",
       "    </tr>\n",
       "  </tbody>\n",
       "</table>\n",
       "<p>2000011 rows × 3 columns</p>\n",
       "</div>"
      ],
      "text/plain": [
       "        userId movieId     genres\n",
       "7918183  56794    1485     Comedy\n",
       "3838694  27562     223     Comedy\n",
       "5621659  40166    1466      Crime\n",
       "5959705  42522      70     Action\n",
       "2283988  16612     421  Adventure\n",
       "...        ...     ...        ...\n",
       "6854510  48962    2013     Action\n",
       "5502604  39294     912      Drama\n",
       "7369035  52644    8798     Action\n",
       "7212979  51544      21     Action\n",
       "2942536  21253    1079     Comedy\n",
       "\n",
       "[2000011 rows x 3 columns]"
      ]
     },
     "execution_count": 23,
     "metadata": {},
     "output_type": "execute_result"
    }
   ],
   "source": [
    "x_test"
   ]
  },
  {
   "cell_type": "code",
   "execution_count": 24,
   "id": "d959f8b6-c8f6-4014-8af3-9b88ac9e250f",
   "metadata": {},
   "outputs": [],
   "source": [
    "import pandas as pd\n",
    "\n",
    "train_df = x_train.copy()\n",
    "train_df['label'] = y_train\n",
    "train_df['group_id'] = g_train\n",
    "train_df.sort_values(by='group_id', inplace=True)\n"
   ]
  },
  {
   "cell_type": "code",
   "execution_count": 25,
   "id": "440e0310-35c0-4302-9f3a-db90285fe54c",
   "metadata": {},
   "outputs": [],
   "source": [
    "x_train_sorted = train_df.drop(['label', 'group_id'], axis=1)\n",
    "y_train_sorted = train_df['label']\n",
    "g_train_sorted = train_df['group_id']"
   ]
  },
  {
   "cell_type": "code",
   "execution_count": null,
   "id": "2be6eb38-a14a-4c4b-88bd-ae9b26248581",
   "metadata": {},
   "outputs": [],
   "source": []
  },
  {
   "cell_type": "code",
   "execution_count": 26,
   "id": "cb3c451b-dba9-4be7-9c39-b7d917caa3b4",
   "metadata": {},
   "outputs": [],
   "source": [
    "train_df = x_train.copy()\n",
    "train_df['label'] = y_train\n",
    "train_df['group_id'] = g_train"
   ]
  },
  {
   "cell_type": "code",
   "execution_count": 27,
   "id": "fd4b34f3-6720-41ca-b03c-6e3350f78fea",
   "metadata": {},
   "outputs": [],
   "source": [
    "train_df.sort_values(by='group_id', inplace=True)"
   ]
  },
  {
   "cell_type": "code",
   "execution_count": 28,
   "id": "a4edb8b4-6533-4a55-a8c0-f3253ed35a3e",
   "metadata": {},
   "outputs": [],
   "source": [
    "x_train_sorted = train_df.drop(['label', 'group_id'], axis=1)\n",
    "y_train_sorted = train_df['label']\n",
    "g_train_sorted = train_df['group_id']"
   ]
  },
  {
   "cell_type": "code",
   "execution_count": 29,
   "id": "e657eb99-2eef-41ed-bafc-b73ff42c4d0e",
   "metadata": {},
   "outputs": [],
   "source": [
    "# train_pool=Pool(data=x_train,label=y_train,group_id=g_train,cat_features=[0,1,2])\n",
    "\n",
    "# test_pool=Pool(data=x_test,label=y_test,group_id=g_test,cat_features=[0,1,2])\n",
    "\n",
    "train_pool = Pool(data=x_train_sorted,\n",
    "                  label=y_train_sorted,\n",
    "                  group_id=g_train_sorted,\n",
    "                  cat_features=[0, 1, 2])\n",
    "\n",
    "import pandas as pd\n",
    "from catboost import Pool\n",
    "\n",
    "# Combine test features, labels, and group IDs\n",
    "test_df = x_test.copy()\n",
    "test_df['label'] = y_test\n",
    "test_df['group_id'] = g_test\n",
    "\n",
    "# Sort by group_id to make CatBoost happy\n",
    "test_df.sort_values(by='group_id', inplace=True)\n",
    "\n",
    "# Split back into X, y, and group_id\n",
    "x_test_sorted = test_df.drop(['label', 'group_id'], axis=1)\n",
    "y_test_sorted = test_df['label']\n",
    "g_test_sorted = test_df['group_id']\n",
    "\n",
    "# Now create the test pool\n",
    "test_pool = Pool(\n",
    "    data=x_test_sorted,\n",
    "    label=y_test_sorted,\n",
    "    group_id=g_test_sorted,\n",
    "    cat_features=[0, 1, 2]  )"
   ]
  },
  {
   "cell_type": "code",
   "execution_count": 30,
   "id": "12251f2d-cbe5-4b34-88cb-8f554bdb283d",
   "metadata": {},
   "outputs": [],
   "source": [
    "model = CatBoostRanker(\n",
    "    iterations=10,\n",
    "    learning_rate=0.1,\n",
    "    depth=6,\n",
    "    loss_function='YetiRank',\n",
    "    verbose=1,task_type='CPU',random_state=42,)"
   ]
  },
  {
   "cell_type": "code",
   "execution_count": 31,
   "id": "de72987d-e425-4ca3-933d-271ec9d7241d",
   "metadata": {},
   "outputs": [
    {
     "name": "stdout",
     "output_type": "stream",
     "text": [
      "Groupwise loss function. OneHotMaxSize set to 10\n",
      "0:\ttotal: 48.5s\tremaining: 7m 16s\n",
      "1:\ttotal: 1m 32s\tremaining: 6m 8s\n",
      "2:\ttotal: 2m 19s\tremaining: 5m 25s\n",
      "3:\ttotal: 3m 12s\tremaining: 4m 49s\n",
      "4:\ttotal: 3m 56s\tremaining: 3m 56s\n",
      "5:\ttotal: 4m 41s\tremaining: 3m 7s\n",
      "6:\ttotal: 5m 37s\tremaining: 2m 24s\n",
      "7:\ttotal: 6m 21s\tremaining: 1m 35s\n",
      "8:\ttotal: 7m 3s\tremaining: 47s\n",
      "9:\ttotal: 7m 47s\tremaining: 0us\n"
     ]
    },
    {
     "data": {
      "text/plain": [
       "<catboost.core.CatBoostRanker at 0x21a8e312870>"
      ]
     },
     "execution_count": 31,
     "metadata": {},
     "output_type": "execute_result"
    }
   ],
   "source": [
    "model.fit(train_pool)"
   ]
  },
  {
   "cell_type": "code",
   "execution_count": 46,
   "id": "8fd218d7-cbb3-4e94-98ee-5c6c3a733695",
   "metadata": {},
   "outputs": [
    {
     "name": "stdout",
     "output_type": "stream",
     "text": [
      "-11.188367964946389\n"
     ]
    }
   ],
   "source": [
    "from sklearn.metrics import r2_score\n",
    "y_pred=model.predict(test_pool)\n",
    "x_test['predicted_score'] = y_pred\n",
    "print(r2_score(y_test,y_pred))"
   ]
  },
  {
   "cell_type": "code",
   "execution_count": 42,
   "id": "c19bf727-5097-409b-bc22-e80b663f597c",
   "metadata": {},
   "outputs": [
    {
     "name": "stderr",
     "output_type": "stream",
     "text": [
      "C:\\Users\\praja\\AppData\\Local\\Temp\\ipykernel_1488\\608742923.py:4: FutureWarning: The default of observed=False is deprecated and will be changed to True in a future version of pandas. Pass observed=False to retain current behavior or observed=True to adopt the future default and silence this warning.\n",
      "  top_per_user = result.groupby('userId').apply(lambda df: df.sort_values(by='predicted_score', ascending=False).head(3))\n",
      "C:\\Users\\praja\\AppData\\Local\\Temp\\ipykernel_1488\\608742923.py:4: DeprecationWarning: DataFrameGroupBy.apply operated on the grouping columns. This behavior is deprecated, and in a future version of pandas the grouping columns will be excluded from the operation. Either pass `include_groups=False` to exclude the groupings or explicitly select the grouping columns after groupby to silence this warning.\n",
      "  top_per_user = result.groupby('userId').apply(lambda df: df.sort_values(by='predicted_score', ascending=False).head(3))\n"
     ]
    }
   ],
   "source": [
    "result = pd.concat([x_test.reset_index(drop=True), y_test.reset_index(drop=True)], axis=1)\n",
    "\n",
    "# Show top recommendations per user\n",
    "top_per_user = result.groupby('userId').apply(lambda df: df.sort_values(by='predicted_score', ascending=False).head(3))\n"
   ]
  },
  {
   "cell_type": "code",
   "execution_count": 48,
   "id": "ccfe3555-848e-472c-bfc4-1b95cc80337b",
   "metadata": {},
   "outputs": [
    {
     "data": {
      "image/png": "[encoded data removed]",
      "text/plain": [
       "<Figure size 640x480 with 1 Axes>"
      ]
     },
     "metadata": {},
     "output_type": "display_data"
    }
   ],
   "source": [
    "import matplotlib.pyplot as plt\n",
    "plt.scatter(y_test, y_pred)\n",
    "plt.xlabel(\"Actual\")\n",
    "plt.ylabel(\"Predicted\")\n",
    "plt.title(\"Actual vs Predicted\")\n",
    "plt.show()"
   ]
  },
  {
   "cell_type": "code",
   "execution_count": 43,
   "id": "bd8c34c7-ff46-4b12-bbd7-de684ffdafd5",
   "metadata": {},
   "outputs": [
    {
     "name": "stdout",
     "output_type": "stream",
     "text": [
      "               userId movieId    genres  predicted_score  rating\n",
      "userId                                                          \n",
      "1      1686365      1     539    Comedy         0.614286     5.0\n",
      "       567672       1     356    Comedy         0.151040     5.0\n",
      "       257088       1     370    Action        -0.013606     5.0\n",
      "2      862217       2    1391    Action         0.304481     3.0\n",
      "       136020       2     539    Comedy        -0.013606     3.0\n",
      "...               ...     ...       ...              ...     ...\n",
      "71566  1166900  71566      36     Crime         0.815029     5.0\n",
      "       1843059  71566      34  Children         0.614286     4.0\n",
      "71567  789213   71567    1690    Action         0.472502     3.0\n",
      "       1595571  71567     256    Comedy         0.472502     3.0\n",
      "       1368124  71567     110    Action         0.151040     5.0\n",
      "\n",
      "[209634 rows x 5 columns]\n"
     ]
    }
   ],
   "source": [
    "print(top_per_user)"
   ]
  },
  {
   "cell_type": "code",
   "execution_count": null,
   "id": "8da1b359-fb18-4769-8f6e-85605358ad57",
   "metadata": {},
   "outputs": [],
   "source": []
  }
 ],
 "metadata": {
  "kernelspec": {
   "display_name": "Python 3 (ipykernel)",
   "language": "python",
   "name": "python3"
  },
  "language_info": {
   "codemirror_mode": {
    "name": "ipython",
    "version": 3
   },
   "file_extension": ".py",
   "mimetype": "text/x-python",
   "name": "python",
   "nbconvert_exporter": "python",
   "pygments_lexer": "ipython3",
   "version": "3.12.8"
  }
 },
 "nbformat": 4,
 "nbformat_minor": 5
}
